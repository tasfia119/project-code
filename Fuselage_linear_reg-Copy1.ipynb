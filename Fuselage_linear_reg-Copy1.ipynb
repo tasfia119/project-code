{
 "cells": [
  {
   "cell_type": "code",
   "execution_count": 420,
   "id": "f72e4068",
   "metadata": {},
   "outputs": [],
   "source": [
    "import numpy as np\n",
    "import pandas as pd\n",
    "import random"
   ]
  },
  {
   "cell_type": "code",
   "execution_count": 421,
   "id": "57f7ca75",
   "metadata": {},
   "outputs": [],
   "source": [
    "import seaborn as sns\n",
    "import matplotlib.pyplot as plt\n",
    "from sklearn import preprocessing, svm\n",
    "from sklearn.model_selection import train_test_split\n",
    "from sklearn.linear_model import LinearRegression, SGDRegressor , BayesianRidge\n",
    "from sklearn.pipeline import make_pipeline\n",
    "from sklearn.preprocessing import StandardScaler\n",
    "from sklearn.neural_network import MLPRegressor\n",
    "from sklearn import tree\n",
    "\n",
    "from sklearn import metrics\n",
    "from sklearn.preprocessing import StandardScaler\n",
    "\n",
    "from sklearn.model_selection import GridSearchCV"
   ]
  },
  {
   "cell_type": "code",
   "execution_count": 422,
   "id": "d30a03a2",
   "metadata": {},
   "outputs": [
    {
     "name": "stdout",
     "output_type": "stream",
     "text": [
      "     a  b     c  aoa  re        cl        cd\n",
      "0    1  1  0.25  -90  10 -0.105080  0.487330\n",
      "1    1  1  0.25  -85  10 -0.146358  0.514457\n",
      "2    1  1  0.25  -80  10 -0.192179  0.535143\n",
      "3    1  1  0.25  -75  10 -0.239482  0.544505\n",
      "4    1  1  0.25  -70  10 -0.286200  0.541827\n",
      "..  .. ..   ...  ...  ..       ...       ...\n",
      "349  3  1  1.00   65  50  0.410910  0.502557\n",
      "350  3  1  1.00   70  50  0.402379  0.538003\n",
      "351  3  1  1.00   75  50  0.397284  0.584518\n",
      "352  3  1  1.00   80  50  0.380354  0.617568\n",
      "353  3  1  1.00   85  50  0.328372  0.612561\n",
      "\n",
      "[354 rows x 7 columns]\n"
     ]
    }
   ],
   "source": [
    "df = pd.read_csv('fuselage_dataset.csv')\n",
    "print(df)"
   ]
  },
  {
   "cell_type": "code",
   "execution_count": 423,
   "id": "fae38d79",
   "metadata": {},
   "outputs": [
    {
     "name": "stdout",
     "output_type": "stream",
     "text": [
      "     a  b     c  aoa  re\n",
      "0    1  1  0.25  -90  10\n",
      "1    1  1  0.25  -85  10\n",
      "2    1  1  0.25  -80  10\n",
      "3    1  1  0.25  -75  10\n",
      "4    1  1  0.25  -70  10\n",
      "..  .. ..   ...  ...  ..\n",
      "349  3  1  1.00   65  50\n",
      "350  3  1  1.00   70  50\n",
      "351  3  1  1.00   75  50\n",
      "352  3  1  1.00   80  50\n",
      "353  3  1  1.00   85  50\n",
      "\n",
      "[354 rows x 5 columns]\n"
     ]
    }
   ],
   "source": [
    "input_x = df[['a', 'b', 'c', 'aoa', 're']]\n",
    "print(input_x)"
   ]
  },
  {
   "cell_type": "code",
   "execution_count": 424,
   "id": "0eefa888",
   "metadata": {},
   "outputs": [
    {
     "name": "stdout",
     "output_type": "stream",
     "text": [
      "(354, 5)\n"
     ]
    }
   ],
   "source": [
    "input_x = np.asarray(input_x)\n",
    "print(input_x.shape)"
   ]
  },
  {
   "cell_type": "code",
   "execution_count": 425,
   "id": "04f270f3",
   "metadata": {},
   "outputs": [
    {
     "name": "stdout",
     "output_type": "stream",
     "text": [
      "(354,)\n"
     ]
    }
   ],
   "source": [
    "output_cl = df[['cl']]\n",
    "output_cl = np.asarray(output_cl).reshape(-1)\n",
    "print(output_cl.shape)"
   ]
  },
  {
   "cell_type": "code",
   "execution_count": 426,
   "id": "056581e3",
   "metadata": {},
   "outputs": [
    {
     "name": "stdout",
     "output_type": "stream",
     "text": [
      "(354,)\n"
     ]
    }
   ],
   "source": [
    "output_cd = df[['cd']]\n",
    "output_cd = np.asarray(output_cl).reshape(-1)\n",
    "print(output_cd.shape)"
   ]
  },
  {
   "cell_type": "code",
   "execution_count": 427,
   "id": "00e9f582",
   "metadata": {},
   "outputs": [],
   "source": [
    "scaler = StandardScaler()\n",
    "scaler.fit(input_x)\n",
    "scaled_input_x = scaler.transform(input_x)"
   ]
  },
  {
   "cell_type": "code",
   "execution_count": 428,
   "id": "5b22481e",
   "metadata": {},
   "outputs": [],
   "source": [
    "X_train, X_test, y_train, y_test = train_test_split(input_x, output_cd, test_size = 0.20, shuffle=True)\n",
    "#X_train1 = input_x[:259]\n",
    "#y_train1 = output_cl[:259]\n",
    "#X_rem = input_x[259:]\n",
    "#y_rem = output_cl[259:]\n",
    "\n",
    "\n",
    "\n",
    "#X_train2, X_test, y_train2, y_test = train_test_split(X_rem, y_rem, test_size = 0.50, shuffle=True)\n",
    "#X_train = np.concatenate((X_train1, X_train2), axis=0)\n",
    "#y_train = np.concatenate((y_train1, y_train2), axis=0)\n",
    "\n",
    "\n",
    "#print(X_test,y_test)\n"
   ]
  },
  {
   "cell_type": "code",
   "execution_count": 429,
   "id": "f9181496",
   "metadata": {},
   "outputs": [
    {
     "data": {
      "text/html": [
       "<style>#sk-container-id-45 {color: black;}#sk-container-id-45 pre{padding: 0;}#sk-container-id-45 div.sk-toggleable {background-color: white;}#sk-container-id-45 label.sk-toggleable__label {cursor: pointer;display: block;width: 100%;margin-bottom: 0;padding: 0.3em;box-sizing: border-box;text-align: center;}#sk-container-id-45 label.sk-toggleable__label-arrow:before {content: \"▸\";float: left;margin-right: 0.25em;color: #696969;}#sk-container-id-45 label.sk-toggleable__label-arrow:hover:before {color: black;}#sk-container-id-45 div.sk-estimator:hover label.sk-toggleable__label-arrow:before {color: black;}#sk-container-id-45 div.sk-toggleable__content {max-height: 0;max-width: 0;overflow: hidden;text-align: left;background-color: #f0f8ff;}#sk-container-id-45 div.sk-toggleable__content pre {margin: 0.2em;color: black;border-radius: 0.25em;background-color: #f0f8ff;}#sk-container-id-45 input.sk-toggleable__control:checked~div.sk-toggleable__content {max-height: 200px;max-width: 100%;overflow: auto;}#sk-container-id-45 input.sk-toggleable__control:checked~label.sk-toggleable__label-arrow:before {content: \"▾\";}#sk-container-id-45 div.sk-estimator input.sk-toggleable__control:checked~label.sk-toggleable__label {background-color: #d4ebff;}#sk-container-id-45 div.sk-label input.sk-toggleable__control:checked~label.sk-toggleable__label {background-color: #d4ebff;}#sk-container-id-45 input.sk-hidden--visually {border: 0;clip: rect(1px 1px 1px 1px);clip: rect(1px, 1px, 1px, 1px);height: 1px;margin: -1px;overflow: hidden;padding: 0;position: absolute;width: 1px;}#sk-container-id-45 div.sk-estimator {font-family: monospace;background-color: #f0f8ff;border: 1px dotted black;border-radius: 0.25em;box-sizing: border-box;margin-bottom: 0.5em;}#sk-container-id-45 div.sk-estimator:hover {background-color: #d4ebff;}#sk-container-id-45 div.sk-parallel-item::after {content: \"\";width: 100%;border-bottom: 1px solid gray;flex-grow: 1;}#sk-container-id-45 div.sk-label:hover label.sk-toggleable__label {background-color: #d4ebff;}#sk-container-id-45 div.sk-serial::before {content: \"\";position: absolute;border-left: 1px solid gray;box-sizing: border-box;top: 0;bottom: 0;left: 50%;z-index: 0;}#sk-container-id-45 div.sk-serial {display: flex;flex-direction: column;align-items: center;background-color: white;padding-right: 0.2em;padding-left: 0.2em;position: relative;}#sk-container-id-45 div.sk-item {position: relative;z-index: 1;}#sk-container-id-45 div.sk-parallel {display: flex;align-items: stretch;justify-content: center;background-color: white;position: relative;}#sk-container-id-45 div.sk-item::before, #sk-container-id-45 div.sk-parallel-item::before {content: \"\";position: absolute;border-left: 1px solid gray;box-sizing: border-box;top: 0;bottom: 0;left: 50%;z-index: -1;}#sk-container-id-45 div.sk-parallel-item {display: flex;flex-direction: column;z-index: 1;position: relative;background-color: white;}#sk-container-id-45 div.sk-parallel-item:first-child::after {align-self: flex-end;width: 50%;}#sk-container-id-45 div.sk-parallel-item:last-child::after {align-self: flex-start;width: 50%;}#sk-container-id-45 div.sk-parallel-item:only-child::after {width: 0;}#sk-container-id-45 div.sk-dashed-wrapped {border: 1px dashed gray;margin: 0 0.4em 0.5em 0.4em;box-sizing: border-box;padding-bottom: 0.4em;background-color: white;}#sk-container-id-45 div.sk-label label {font-family: monospace;font-weight: bold;display: inline-block;line-height: 1.2em;}#sk-container-id-45 div.sk-label-container {text-align: center;}#sk-container-id-45 div.sk-container {/* jupyter's `normalize.less` sets `[hidden] { display: none; }` but bootstrap.min.css set `[hidden] { display: none !important; }` so we also need the `!important` here to be able to override the default hidden behavior on the sphinx rendered scikit-learn.org. See: https://github.com/scikit-learn/scikit-learn/issues/21755 */display: inline-block !important;position: relative;}#sk-container-id-45 div.sk-text-repr-fallback {display: none;}</style><div id=\"sk-container-id-45\" class=\"sk-top-container\"><div class=\"sk-text-repr-fallback\"><pre>MLPRegressor(batch_size=32, hidden_layer_sizes=(300, 150, 50),\n",
       "             learning_rate=&#x27;adaptive&#x27;, max_iter=100000, solver=&#x27;lbfgs&#x27;)</pre><b>In a Jupyter environment, please rerun this cell to show the HTML representation or trust the notebook. <br />On GitHub, the HTML representation is unable to render, please try loading this page with nbviewer.org.</b></div><div class=\"sk-container\" hidden><div class=\"sk-item\"><div class=\"sk-estimator sk-toggleable\"><input class=\"sk-toggleable__control sk-hidden--visually\" id=\"sk-estimator-id-45\" type=\"checkbox\" checked><label for=\"sk-estimator-id-45\" class=\"sk-toggleable__label sk-toggleable__label-arrow\">MLPRegressor</label><div class=\"sk-toggleable__content\"><pre>MLPRegressor(batch_size=32, hidden_layer_sizes=(300, 150, 50),\n",
       "             learning_rate=&#x27;adaptive&#x27;, max_iter=100000, solver=&#x27;lbfgs&#x27;)</pre></div></div></div></div></div>"
      ],
      "text/plain": [
       "MLPRegressor(batch_size=32, hidden_layer_sizes=(300, 150, 50),\n",
       "             learning_rate='adaptive', max_iter=100000, solver='lbfgs')"
      ]
     },
     "execution_count": 429,
     "metadata": {},
     "output_type": "execute_result"
    }
   ],
   "source": [
    "#regr = LinearRegression()\n",
    "#regr = make_pipeline(StandardScaler(), BayesianRidge(max_iter=1000, tol=1e-3, penalty='elasticnet'))\n",
    "#regr = SGDRegressor()\n",
    "#regr = BayesianRidge(max_iter=1000)\n",
    "#regr = tree.DecisionTreeRegressor()\n",
    "regr = MLPRegressor(hidden_layer_sizes=(300,150,50),max_iter = 100000,activation = 'relu',solver = 'lbfgs', batch_size=32, learning_rate='adaptive')\n",
    " \n",
    "regr.fit(X_train, y_train)"
   ]
  },
  {
   "cell_type": "code",
   "execution_count": 430,
   "id": "7531c0b9",
   "metadata": {},
   "outputs": [
    {
     "name": "stdout",
     "output_type": "stream",
     "text": [
      "0.9139930275743546\n"
     ]
    }
   ],
   "source": [
    "print(regr.score(X_test, y_test))"
   ]
  },
  {
   "cell_type": "code",
   "execution_count": 431,
   "id": "eafa4f5d",
   "metadata": {},
   "outputs": [
    {
     "name": "stdout",
     "output_type": "stream",
     "text": [
      "0.9927193945023373\n"
     ]
    }
   ],
   "source": [
    "print(regr.score(X_train, y_train))"
   ]
  },
  {
   "cell_type": "code",
   "execution_count": 432,
   "id": "c6bc3c56",
   "metadata": {},
   "outputs": [],
   "source": [
    "from sklearn.metrics import mean_absolute_error,mean_squared_error"
   ]
  },
  {
   "cell_type": "code",
   "execution_count": 433,
   "id": "594fb6e0",
   "metadata": {},
   "outputs": [
    {
     "name": "stdout",
     "output_type": "stream",
     "text": [
      "(71,)\n"
     ]
    }
   ],
   "source": [
    "y_pred = regr.predict(X_test)\n",
    "print(y_pred.shape)"
   ]
  },
  {
   "cell_type": "code",
   "execution_count": 434,
   "id": "ee16fa7a",
   "metadata": {},
   "outputs": [
    {
     "name": "stdout",
     "output_type": "stream",
     "text": [
      "MAE: 0.045619806780004796\n",
      "MSE: 0.005241471328946911\n",
      "RMSE: 0.07239800638793109\n"
     ]
    }
   ],
   "source": [
    "mae = mean_absolute_error(y_true=y_test,y_pred=y_pred)\n",
    "#squared True returns MSE value, False returns RMSE value.\n",
    "mse = mean_squared_error(y_true=y_test,y_pred=y_pred) #default=True\n",
    "rmse = mean_squared_error(y_true=y_test,y_pred=y_pred,squared=False)\n",
    " \n",
    "print(\"MAE:\",mae)\n",
    "print(\"MSE:\",mse)\n",
    "print(\"RMSE:\",rmse)"
   ]
  },
  {
   "cell_type": "code",
   "execution_count": 436,
   "id": "2f696f1a",
   "metadata": {},
   "outputs": [
    {
     "data": {
      "image/png": "[encoded data removed]",
      "text/plain": [
       "<Figure size 1200x600 with 1 Axes>"
      ]
     },
     "metadata": {},
     "output_type": "display_data"
    }
   ],
   "source": [
    "plt.figure(figsize=(12, 6)) \n",
    "plt.scatter(X_test[:,3], y_test, color='blue', label='Actual', alpha=0.5) \n",
    "plt.scatter(X_test[:,3], y_pred, color='red', label='Predicted', alpha=0.5) \n",
    "plt.title('Actual vs. Predicted $C_l$ vs. $\\\\alpha$') \n",
    "plt.xlabel('$\\\\alpha$ (Angle of Attack)') \n",
    "plt.ylabel(' $C_l$ (Lift Coefficient)')\n",
    "plt.legend() \n",
    "plt.grid(True)\n",
    "plt.show()"
   ]
  },
  {
   "cell_type": "code",
   "execution_count": 312,
   "id": "fc24c487",
   "metadata": {},
   "outputs": [
    {
     "name": "stdout",
     "output_type": "stream",
     "text": [
      "(48,)\n",
      "[1.91094996e+01 1.74047855e+01 1.80882289e+01 3.77082090e+04\n",
      " 4.21392738e+01 1.80882289e+01 2.41350373e+01 4.57239561e+02\n",
      " 3.71105991e+02 1.68570155e+01 4.08210665e+00 2.28323835e+01\n",
      " 1.00780786e+01 7.78204228e+00 3.05337285e+01 1.61017040e+00\n",
      " 6.99196868e+00 1.59976285e+01 2.37219069e+01 1.58302169e+01\n",
      " 1.00780786e+01 1.48662039e+01 1.00617391e+01 1.10612288e+01\n",
      " 2.50863956e+01 1.88997377e+01 1.58302169e+01 2.50863956e+01\n",
      " 4.08210665e+00 1.06650482e+01 1.26621916e+00 1.48529172e+01\n",
      " 1.67235764e+01 2.37219069e+01 1.45208855e+01 3.59303228e+01\n",
      " 5.39802239e+00 5.33717550e+00 2.95880377e+01 1.58697281e+01\n",
      " 2.76272937e+00 1.71916337e+01 2.64328974e+01 2.64759193e+00\n",
      " 5.39802239e+00 3.71105991e+02 1.40464015e+01 1.06650482e+01]\n",
      "824.8127722021803\n"
     ]
    }
   ],
   "source": [
    "diff = y_pred - y_test\n",
    "diff = np.asarray(diff).reshape(-1)\n",
    "print(diff.shape)\n",
    "diff = np.absolute(diff)\n",
    "y_test = np.asarray(y_test).reshape(-1)\n",
    "y_test = np.absolute(y_test)\n",
    "pctg_error = (diff/y_test)*100\n",
    "print(pctg_error)\n",
    "print(np.mean(pctg_error))"
   ]
  },
  {
   "cell_type": "code",
   "execution_count": null,
   "id": "f7f8f9d4",
   "metadata": {},
   "outputs": [],
   "source": []
  }
 ],
 "metadata": {
  "kernelspec": {
   "display_name": "Python 3 (ipykernel)",
   "language": "python",
   "name": "python3"
  },
  "language_info": {
   "codemirror_mode": {
    "name": "ipython",
    "version": 3
   },
   "file_extension": ".py",
   "mimetype": "text/x-python",
   "name": "python",
   "nbconvert_exporter": "python",
   "pygments_lexer": "ipython3",
   "version": "3.11.4"
  }
 },
 "nbformat": 4,
 "nbformat_minor": 5
}
